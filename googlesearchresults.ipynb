{
 "cells": [
  {
   "cell_type": "code",
   "execution_count": 8,
   "metadata": {},
   "outputs": [
    {
     "name": "stdout",
     "output_type": "stream",
     "text": [
      "Collecting googlesearch-python\n",
      "  Using cached googlesearch_python-1.1.0-py3-none-any.whl (3.6 kB)\n",
      "Collecting beautifulsoup4==4.9.3\n",
      "  Using cached beautifulsoup4-4.9.3-py3-none-any.whl (115 kB)\n",
      "Collecting requests==2.25.1\n",
      "  Using cached requests-2.25.1-py2.py3-none-any.whl (61 kB)\n",
      "Collecting soupsieve>1.2\n",
      "  Using cached soupsieve-2.3.2.post1-py3-none-any.whl (37 kB)\n",
      "Collecting chardet<5,>=3.0.2\n",
      "  Using cached chardet-4.0.0-py2.py3-none-any.whl (178 kB)\n",
      "Collecting idna<3,>=2.5\n",
      "  Using cached idna-2.10-py2.py3-none-any.whl (58 kB)\n",
      "Requirement already satisfied: urllib3<1.27,>=1.21.1 in c:\\pythonvenv\\virtualenv_project\\100daysofcode\\lib\\site-packages (from requests==2.25.1->googlesearch-python) (1.26.13)\n",
      "Requirement already satisfied: certifi>=2017.4.17 in c:\\pythonvenv\\virtualenv_project\\100daysofcode\\lib\\site-packages (from requests==2.25.1->googlesearch-python) (2022.12.7)\n",
      "Installing collected packages: soupsieve, idna, chardet, requests, beautifulsoup4, googlesearch-python\n",
      "  Attempting uninstall: idna\n",
      "    Found existing installation: idna 3.4\n",
      "    Uninstalling idna-3.4:\n",
      "      Successfully uninstalled idna-3.4\n",
      "  Attempting uninstall: requests\n",
      "    Found existing installation: requests 2.28.1\n",
      "    Uninstalling requests-2.28.1:\n",
      "      Successfully uninstalled requests-2.28.1\n",
      "Successfully installed beautifulsoup4-4.9.3 chardet-4.0.0 googlesearch-python-1.1.0 idna-2.10 requests-2.25.1 soupsieve-2.3.2.post1\n",
      "Note: you may need to restart the kernel to use updated packages.\n"
     ]
    }
   ],
   "source": [
    "#pip install googlesearch-python"
   ]
  },
  {
   "cell_type": "code",
   "execution_count": 1,
   "metadata": {},
   "outputs": [],
   "source": [
    "import pandas as pd\n",
    "from datetime import date\n",
    "from googlesearch import search"
   ]
  },
  {
   "cell_type": "code",
   "execution_count": 5,
   "metadata": {},
   "outputs": [
    {
     "name": "stdout",
     "output_type": "stream",
     "text": [
      "   Ranking                                        Landingpage  \\\n",
      "0        1        https://www.gaslicht.com/energievergelijken   \n",
      "1        2      https://www.pricewise.nl/energie-vergelijken/   \n",
      "2        3    https://www.overstappen.nl/energie/vergelijken/   \n",
      "3        4       https://www.independer.nl/energie/intro.aspx   \n",
      "4        5  https://www.consumentenbond.nl/energie-vergeli...   \n",
      "5        6                   https://www.energievergelijk.nl/   \n",
      "6        7        https://www.eigenhuis.nl/energievergelijker   \n",
      "7        8     https://www.vattenfall.nl/energie/vergelijken/   \n",
      "8        9  https://www.energiedirect.nl/energie/energie-v...   \n",
      "9       10     https://www.easyswitch.nl/energie-vergelijken/   \n",
      "10       1  https://www.mediamarkt.nl/nl/category/televisi...   \n",
      "11       2             https://www.bol.com/nl/nl/l/tv-s/7291/   \n",
      "12       3                https://www.kieskeurig.nl/televisie   \n",
      "13       4               https://el-vidas.nl/beeld/televisies   \n",
      "14       5                    https://slimster.nl/televisies/   \n",
      "15       6  https://www.krefel.be/nl/c/A40-B40010-C738/bee...   \n",
      "16       7                https://www.kieskeurig.nl/televisie   \n",
      "17       8               https://el-vidas.nl/beeld/televisies   \n",
      "18       9                    https://slimster.nl/televisies/   \n",
      "19      10  https://www.krefel.be/nl/c/A40-B40010-C738/bee...   \n",
      "20       1         https://www.zalando.nl/herenkleding-jeans/   \n",
      "21       2         https://www.debijenkorf.nl/herenmode/jeans   \n",
      "22       3        https://www.wehkamp.nl/heren-kleding-jeans/   \n",
      "23       4             https://www.jeanscentre.nl/heren/jeans   \n",
      "24       5   https://www.wefashion.nl/nl_NL/sale/heren/jeans/   \n",
      "25       6  https://www.onlyformen.nl/herenkleding/broeken...   \n",
      "26       7               https://www.def-shop.nl/heren/jeans/   \n",
      "27       8   https://www.wefashion.nl/nl_NL/sale/heren/jeans/   \n",
      "28       9  https://www.onlyformen.nl/herenkleding/broeken...   \n",
      "29      10               https://www.def-shop.nl/heren/jeans/   \n",
      "\n",
      "                       Keyword       Date  \n",
      "0   energieprijzen vergelijken 2023-01-21  \n",
      "1   energieprijzen vergelijken 2023-01-21  \n",
      "2   energieprijzen vergelijken 2023-01-21  \n",
      "3   energieprijzen vergelijken 2023-01-21  \n",
      "4   energieprijzen vergelijken 2023-01-21  \n",
      "5   energieprijzen vergelijken 2023-01-21  \n",
      "6   energieprijzen vergelijken 2023-01-21  \n",
      "7   energieprijzen vergelijken 2023-01-21  \n",
      "8   energieprijzen vergelijken 2023-01-21  \n",
      "9   energieprijzen vergelijken 2023-01-21  \n",
      "10                    tv kopen 2023-01-21  \n",
      "11                    tv kopen 2023-01-21  \n",
      "12                    tv kopen 2023-01-21  \n",
      "13                    tv kopen 2023-01-21  \n",
      "14                    tv kopen 2023-01-21  \n",
      "15                    tv kopen 2023-01-21  \n",
      "16                    tv kopen 2023-01-21  \n",
      "17                    tv kopen 2023-01-21  \n",
      "18                    tv kopen 2023-01-21  \n",
      "19                    tv kopen 2023-01-21  \n",
      "20                 jeans heren 2023-01-21  \n",
      "21                 jeans heren 2023-01-21  \n",
      "22                 jeans heren 2023-01-21  \n",
      "23                 jeans heren 2023-01-21  \n",
      "24                 jeans heren 2023-01-21  \n",
      "25                 jeans heren 2023-01-21  \n",
      "26                 jeans heren 2023-01-21  \n",
      "27                 jeans heren 2023-01-21  \n",
      "28                 jeans heren 2023-01-21  \n",
      "29                 jeans heren 2023-01-21  \n"
     ]
    }
   ],
   "source": [
    "\n",
    "#loop voor rankings in serp diverse keywords\n",
    "results = pd.DataFrame(columns=['Ranking','Landingpage','Keyword','Date'])\n",
    "keywords = ['energieprijzen vergelijken','tv kopen','jeans heren']\n",
    " \n",
    "for keyword in keywords:\n",
    "    temp = []\n",
    "    temp.extend([r for r in search(keyword, 10, 'nl')])\n",
    "    ranking = list(range(1,11))\n",
    "    df = pd.DataFrame(list(zip(ranking,temp[0:10])), columns= ['Ranking','Landingpage'])\n",
    "    df['Keyword'] = keyword\n",
    "    df['Date'] = pd.to_datetime(date.today())\n",
    "    results = pd.concat([results, df], axis=0).reset_index(drop=True)\n",
    " \n",
    "print(results) \n"
   ]
  }
 ],
 "metadata": {
  "kernelspec": {
   "display_name": "Python 3",
   "language": "python",
   "name": "python3"
  },
  "language_info": {
   "codemirror_mode": {
    "name": "ipython",
    "version": 3
   },
   "file_extension": ".py",
   "mimetype": "text/x-python",
   "name": "python",
   "nbconvert_exporter": "python",
   "pygments_lexer": "ipython3",
   "version": "3.11.1 (tags/v3.11.1:a7a450f, Dec  6 2022, 19:58:39) [MSC v.1934 64 bit (AMD64)]"
  },
  "orig_nbformat": 4,
  "vscode": {
   "interpreter": {
    "hash": "5aa574c76b4f777f6921e7bc5c5925037d8684c96717152ed1cabc5da26dcb4b"
   }
  }
 },
 "nbformat": 4,
 "nbformat_minor": 2
}
